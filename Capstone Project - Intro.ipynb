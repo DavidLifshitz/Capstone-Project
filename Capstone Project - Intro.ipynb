{
 "cells": [
  {
   "cell_type": "markdown",
   "metadata": {},
   "source": [
    "## Defining the problem\n",
    "\n",
    "##### Many people have to do relocations for their jobs or for their studies. Finding new places to live can be a tedious and challenging experience and many considerations are usually overlooked. People usually only broadly look where they would like to live and give a lot of attention to finding appartments that fit their costs and answer a few criteria. \n",
    "\n",
    "##### These criteria may be whether it's close to work, whether there's a grocery store and school nearby. These considerations are of course only a few of many, perhaps, less important considerations. However, how could you possibly consider everything and still make a good decision? Many neigfhbourhoods have schools, grocery markets, coffee shops and bars. Comparing neighbourhoods while considering tens of venues in the near vicinity can therefore be an almost impossible job to do on your own.\n",
    "\n",
    "##### One solution could be counceling to people who know the neighbourhoods, but their knowledge is also limited and usually costs a lot of money and trust. Therefore, a more robust and easily applicable method should be created to help families find their perfect neighbourhood to live in!\n",
    "\n"
   ]
  },
  {
   "cell_type": "markdown",
   "metadata": {},
   "source": [
    "## The Data I'll be using to solve this problem\n",
    "\n",
    "##### To this end, I'll be using data acquired from the Foursquare database and input from the user, which is a customer interested in moving to Manhattan and wants to get help finding the best Neighbourhood for his needs. To acquire the data acquired of the Foursquare database, we use the geolocational data belonging to New York City. This geolocational data consists of the names of the different neighbourhoods and their longitude and altitude values. \n",
    "\n",
    "##### These coordinates can help us acquire from Foursquare certain user acquired data. For my purposes I'll be using data that describes the top 100 most popular venues in a typical neighbourhood. This popularity is calculated in the Foursquare application. Since this dataset contains the most popular venues in certain neighbourhoods, we can crosslink this dataset to a dataset containing the importance of each venue for a certain customer that wants to know the best neighbourhood for him specifically. \n",
    "\n",
    "##### To this end, I created a list of all possible different venues found in all the neighbourhoods in Manhattan. For each different venue, I request an input from the user, which will rate it from 1 to 10, whether it is important for him to have it in the vicinity of 1km near to its future house. As many neighbourhoods have schools and grocery stores and coffee shops, this cross reference between the two datasets will allow for the calculation of the most fitting neighbourhoods and clustering them. Not only will the application give you the more fitting neighboorhouds, but as the neighboorhoods are expected to be a little clustered into certain areas of the city, this clustering is supposed to give certain flexibility in the choice of the user to find a correct neighbourhood. \n"
   ]
  },
  {
   "cell_type": "code",
   "execution_count": null,
   "metadata": {},
   "outputs": [],
   "source": []
  }
 ],
 "metadata": {
  "kernelspec": {
   "display_name": "Python 3",
   "language": "python",
   "name": "python3"
  },
  "language_info": {
   "codemirror_mode": {
    "name": "ipython",
    "version": 3
   },
   "file_extension": ".py",
   "mimetype": "text/x-python",
   "name": "python",
   "nbconvert_exporter": "python",
   "pygments_lexer": "ipython3",
   "version": "3.7.0"
  }
 },
 "nbformat": 4,
 "nbformat_minor": 2
}
